{
 "cells": [
  {
   "cell_type": "markdown",
   "metadata": {},
   "source": [
    "# Import Module"
   ]
  },
  {
   "cell_type": "code",
   "execution_count": 1,
   "metadata": {},
   "outputs": [
    {
     "name": "stderr",
     "output_type": "stream",
     "text": [
      "[nltk_data] Downloading collection 'all'\n",
      "[nltk_data]    | \n",
      "[nltk_data]    | Downloading package abc to\n",
      "[nltk_data]    |     /Users/meepoom/nltk_data...\n",
      "[nltk_data]    |   Package abc is already up-to-date!\n",
      "[nltk_data]    | Downloading package alpino to\n",
      "[nltk_data]    |     /Users/meepoom/nltk_data...\n",
      "[nltk_data]    |   Package alpino is already up-to-date!\n",
      "[nltk_data]    | Downloading package averaged_perceptron_tagger to\n",
      "[nltk_data]    |     /Users/meepoom/nltk_data...\n",
      "[nltk_data]    |   Package averaged_perceptron_tagger is already up-\n",
      "[nltk_data]    |       to-date!\n",
      "[nltk_data]    | Downloading package averaged_perceptron_tagger_ru to\n",
      "[nltk_data]    |     /Users/meepoom/nltk_data...\n",
      "[nltk_data]    |   Package averaged_perceptron_tagger_ru is already\n",
      "[nltk_data]    |       up-to-date!\n",
      "[nltk_data]    | Downloading package basque_grammars to\n",
      "[nltk_data]    |     /Users/meepoom/nltk_data...\n",
      "[nltk_data]    |   Package basque_grammars is already up-to-date!\n",
      "[nltk_data]    | Downloading package bcp47 to\n",
      "[nltk_data]    |     /Users/meepoom/nltk_data...\n",
      "[nltk_data]    |   Package bcp47 is already up-to-date!\n",
      "[nltk_data]    | Downloading package biocreative_ppi to\n",
      "[nltk_data]    |     /Users/meepoom/nltk_data...\n",
      "[nltk_data]    |   Package biocreative_ppi is already up-to-date!\n",
      "[nltk_data]    | Downloading package bllip_wsj_no_aux to\n",
      "[nltk_data]    |     /Users/meepoom/nltk_data...\n",
      "[nltk_data]    |   Package bllip_wsj_no_aux is already up-to-date!\n",
      "[nltk_data]    | Downloading package book_grammars to\n",
      "[nltk_data]    |     /Users/meepoom/nltk_data...\n",
      "[nltk_data]    |   Package book_grammars is already up-to-date!\n",
      "[nltk_data]    | Downloading package brown to\n",
      "[nltk_data]    |     /Users/meepoom/nltk_data...\n",
      "[nltk_data]    |   Package brown is already up-to-date!\n",
      "[nltk_data]    | Downloading package brown_tei to\n",
      "[nltk_data]    |     /Users/meepoom/nltk_data...\n",
      "[nltk_data]    |   Package brown_tei is already up-to-date!\n",
      "[nltk_data]    | Downloading package cess_cat to\n",
      "[nltk_data]    |     /Users/meepoom/nltk_data...\n",
      "[nltk_data]    |   Package cess_cat is already up-to-date!\n",
      "[nltk_data]    | Downloading package cess_esp to\n",
      "[nltk_data]    |     /Users/meepoom/nltk_data...\n",
      "[nltk_data]    |   Package cess_esp is already up-to-date!\n",
      "[nltk_data]    | Downloading package chat80 to\n",
      "[nltk_data]    |     /Users/meepoom/nltk_data...\n",
      "[nltk_data]    |   Package chat80 is already up-to-date!\n",
      "[nltk_data]    | Downloading package city_database to\n",
      "[nltk_data]    |     /Users/meepoom/nltk_data...\n",
      "[nltk_data]    |   Package city_database is already up-to-date!\n",
      "[nltk_data]    | Downloading package cmudict to\n",
      "[nltk_data]    |     /Users/meepoom/nltk_data...\n",
      "[nltk_data]    |   Package cmudict is already up-to-date!\n",
      "[nltk_data]    | Downloading package comparative_sentences to\n",
      "[nltk_data]    |     /Users/meepoom/nltk_data...\n",
      "[nltk_data]    |   Package comparative_sentences is already up-to-\n",
      "[nltk_data]    |       date!\n",
      "[nltk_data]    | Downloading package comtrans to\n",
      "[nltk_data]    |     /Users/meepoom/nltk_data...\n",
      "[nltk_data]    |   Package comtrans is already up-to-date!\n",
      "[nltk_data]    | Downloading package conll2000 to\n",
      "[nltk_data]    |     /Users/meepoom/nltk_data...\n",
      "[nltk_data]    |   Package conll2000 is already up-to-date!\n",
      "[nltk_data]    | Downloading package conll2002 to\n",
      "[nltk_data]    |     /Users/meepoom/nltk_data...\n",
      "[nltk_data]    |   Package conll2002 is already up-to-date!\n",
      "[nltk_data]    | Downloading package conll2007 to\n",
      "[nltk_data]    |     /Users/meepoom/nltk_data...\n",
      "[nltk_data]    |   Package conll2007 is already up-to-date!\n",
      "[nltk_data]    | Downloading package crubadan to\n",
      "[nltk_data]    |     /Users/meepoom/nltk_data...\n",
      "[nltk_data]    |   Package crubadan is already up-to-date!\n",
      "[nltk_data]    | Downloading package dependency_treebank to\n",
      "[nltk_data]    |     /Users/meepoom/nltk_data...\n",
      "[nltk_data]    |   Package dependency_treebank is already up-to-date!\n",
      "[nltk_data]    | Downloading package dolch to\n",
      "[nltk_data]    |     /Users/meepoom/nltk_data...\n",
      "[nltk_data]    |   Package dolch is already up-to-date!\n",
      "[nltk_data]    | Downloading package europarl_raw to\n",
      "[nltk_data]    |     /Users/meepoom/nltk_data...\n",
      "[nltk_data]    |   Package europarl_raw is already up-to-date!\n",
      "[nltk_data]    | Downloading package extended_omw to\n",
      "[nltk_data]    |     /Users/meepoom/nltk_data...\n",
      "[nltk_data]    |   Package extended_omw is already up-to-date!\n",
      "[nltk_data]    | Downloading package floresta to\n",
      "[nltk_data]    |     /Users/meepoom/nltk_data...\n",
      "[nltk_data]    |   Package floresta is already up-to-date!\n",
      "[nltk_data]    | Downloading package framenet_v15 to\n",
      "[nltk_data]    |     /Users/meepoom/nltk_data...\n",
      "[nltk_data]    |   Package framenet_v15 is already up-to-date!\n",
      "[nltk_data]    | Downloading package framenet_v17 to\n",
      "[nltk_data]    |     /Users/meepoom/nltk_data...\n",
      "[nltk_data]    |   Package framenet_v17 is already up-to-date!\n",
      "[nltk_data]    | Downloading package gazetteers to\n",
      "[nltk_data]    |     /Users/meepoom/nltk_data...\n",
      "[nltk_data]    |   Package gazetteers is already up-to-date!\n",
      "[nltk_data]    | Downloading package genesis to\n",
      "[nltk_data]    |     /Users/meepoom/nltk_data...\n",
      "[nltk_data]    |   Package genesis is already up-to-date!\n",
      "[nltk_data]    | Downloading package gutenberg to\n",
      "[nltk_data]    |     /Users/meepoom/nltk_data...\n",
      "[nltk_data]    |   Package gutenberg is already up-to-date!\n",
      "[nltk_data]    | Downloading package ieer to\n",
      "[nltk_data]    |     /Users/meepoom/nltk_data...\n",
      "[nltk_data]    |   Package ieer is already up-to-date!\n",
      "[nltk_data]    | Downloading package inaugural to\n",
      "[nltk_data]    |     /Users/meepoom/nltk_data...\n",
      "[nltk_data]    |   Package inaugural is already up-to-date!\n",
      "[nltk_data]    | Downloading package indian to\n",
      "[nltk_data]    |     /Users/meepoom/nltk_data...\n",
      "[nltk_data]    |   Package indian is already up-to-date!\n",
      "[nltk_data]    | Downloading package jeita to\n",
      "[nltk_data]    |     /Users/meepoom/nltk_data...\n",
      "[nltk_data]    |   Package jeita is already up-to-date!\n",
      "[nltk_data]    | Downloading package kimmo to\n",
      "[nltk_data]    |     /Users/meepoom/nltk_data...\n",
      "[nltk_data]    |   Package kimmo is already up-to-date!\n",
      "[nltk_data]    | Downloading package knbc to\n",
      "[nltk_data]    |     /Users/meepoom/nltk_data...\n",
      "[nltk_data]    |   Package knbc is already up-to-date!\n",
      "[nltk_data]    | Downloading package large_grammars to\n",
      "[nltk_data]    |     /Users/meepoom/nltk_data...\n",
      "[nltk_data]    |   Package large_grammars is already up-to-date!\n",
      "[nltk_data]    | Downloading package lin_thesaurus to\n",
      "[nltk_data]    |     /Users/meepoom/nltk_data...\n",
      "[nltk_data]    |   Package lin_thesaurus is already up-to-date!\n",
      "[nltk_data]    | Downloading package mac_morpho to\n",
      "[nltk_data]    |     /Users/meepoom/nltk_data...\n",
      "[nltk_data]    |   Package mac_morpho is already up-to-date!\n",
      "[nltk_data]    | Downloading package machado to\n",
      "[nltk_data]    |     /Users/meepoom/nltk_data...\n",
      "[nltk_data]    |   Package machado is already up-to-date!\n",
      "[nltk_data]    | Downloading package masc_tagged to\n",
      "[nltk_data]    |     /Users/meepoom/nltk_data...\n",
      "[nltk_data]    |   Package masc_tagged is already up-to-date!\n",
      "[nltk_data]    | Downloading package maxent_ne_chunker to\n",
      "[nltk_data]    |     /Users/meepoom/nltk_data...\n",
      "[nltk_data]    |   Package maxent_ne_chunker is already up-to-date!\n",
      "[nltk_data]    | Downloading package maxent_treebank_pos_tagger to\n",
      "[nltk_data]    |     /Users/meepoom/nltk_data...\n",
      "[nltk_data]    |   Package maxent_treebank_pos_tagger is already up-\n",
      "[nltk_data]    |       to-date!\n",
      "[nltk_data]    | Downloading package moses_sample to\n",
      "[nltk_data]    |     /Users/meepoom/nltk_data...\n",
      "[nltk_data]    |   Package moses_sample is already up-to-date!\n",
      "[nltk_data]    | Downloading package movie_reviews to\n",
      "[nltk_data]    |     /Users/meepoom/nltk_data...\n",
      "[nltk_data]    |   Package movie_reviews is already up-to-date!\n",
      "[nltk_data]    | Downloading package mte_teip5 to\n",
      "[nltk_data]    |     /Users/meepoom/nltk_data...\n",
      "[nltk_data]    |   Package mte_teip5 is already up-to-date!\n",
      "[nltk_data]    | Downloading package mwa_ppdb to\n",
      "[nltk_data]    |     /Users/meepoom/nltk_data...\n",
      "[nltk_data]    |   Package mwa_ppdb is already up-to-date!\n",
      "[nltk_data]    | Downloading package names to\n",
      "[nltk_data]    |     /Users/meepoom/nltk_data...\n",
      "[nltk_data]    |   Package names is already up-to-date!\n",
      "[nltk_data]    | Downloading package nombank.1.0 to\n",
      "[nltk_data]    |     /Users/meepoom/nltk_data...\n",
      "[nltk_data]    |   Package nombank.1.0 is already up-to-date!\n",
      "[nltk_data]    | Downloading package nonbreaking_prefixes to\n",
      "[nltk_data]    |     /Users/meepoom/nltk_data...\n",
      "[nltk_data]    |   Package nonbreaking_prefixes is already up-to-date!\n",
      "[nltk_data]    | Downloading package nps_chat to\n",
      "[nltk_data]    |     /Users/meepoom/nltk_data...\n",
      "[nltk_data]    |   Package nps_chat is already up-to-date!\n",
      "[nltk_data]    | Downloading package omw to\n",
      "[nltk_data]    |     /Users/meepoom/nltk_data...\n",
      "[nltk_data]    |   Package omw is already up-to-date!\n",
      "[nltk_data]    | Downloading package omw-1.4 to\n",
      "[nltk_data]    |     /Users/meepoom/nltk_data...\n",
      "[nltk_data]    |   Package omw-1.4 is already up-to-date!\n",
      "[nltk_data]    | Downloading package opinion_lexicon to\n",
      "[nltk_data]    |     /Users/meepoom/nltk_data...\n",
      "[nltk_data]    |   Package opinion_lexicon is already up-to-date!\n",
      "[nltk_data]    | Downloading package panlex_swadesh to\n",
      "[nltk_data]    |     /Users/meepoom/nltk_data...\n",
      "[nltk_data]    |   Package panlex_swadesh is already up-to-date!\n",
      "[nltk_data]    | Downloading package paradigms to\n",
      "[nltk_data]    |     /Users/meepoom/nltk_data...\n",
      "[nltk_data]    |   Package paradigms is already up-to-date!\n",
      "[nltk_data]    | Downloading package pe08 to\n",
      "[nltk_data]    |     /Users/meepoom/nltk_data...\n",
      "[nltk_data]    |   Package pe08 is already up-to-date!\n",
      "[nltk_data]    | Downloading package perluniprops to\n",
      "[nltk_data]    |     /Users/meepoom/nltk_data...\n",
      "[nltk_data]    |   Package perluniprops is already up-to-date!\n",
      "[nltk_data]    | Downloading package pil to\n",
      "[nltk_data]    |     /Users/meepoom/nltk_data...\n",
      "[nltk_data]    |   Package pil is already up-to-date!\n",
      "[nltk_data]    | Downloading package pl196x to\n",
      "[nltk_data]    |     /Users/meepoom/nltk_data...\n",
      "[nltk_data]    |   Package pl196x is already up-to-date!\n",
      "[nltk_data]    | Downloading package porter_test to\n",
      "[nltk_data]    |     /Users/meepoom/nltk_data...\n",
      "[nltk_data]    |   Package porter_test is already up-to-date!\n",
      "[nltk_data]    | Downloading package ppattach to\n",
      "[nltk_data]    |     /Users/meepoom/nltk_data...\n",
      "[nltk_data]    |   Package ppattach is already up-to-date!\n",
      "[nltk_data]    | Downloading package problem_reports to\n",
      "[nltk_data]    |     /Users/meepoom/nltk_data...\n",
      "[nltk_data]    |   Package problem_reports is already up-to-date!\n",
      "[nltk_data]    | Downloading package product_reviews_1 to\n",
      "[nltk_data]    |     /Users/meepoom/nltk_data...\n",
      "[nltk_data]    |   Package product_reviews_1 is already up-to-date!\n",
      "[nltk_data]    | Downloading package product_reviews_2 to\n",
      "[nltk_data]    |     /Users/meepoom/nltk_data...\n",
      "[nltk_data]    |   Package product_reviews_2 is already up-to-date!\n",
      "[nltk_data]    | Downloading package propbank to\n",
      "[nltk_data]    |     /Users/meepoom/nltk_data...\n",
      "[nltk_data]    |   Package propbank is already up-to-date!\n",
      "[nltk_data]    | Downloading package pros_cons to\n",
      "[nltk_data]    |     /Users/meepoom/nltk_data...\n",
      "[nltk_data]    |   Package pros_cons is already up-to-date!\n",
      "[nltk_data]    | Downloading package ptb to\n",
      "[nltk_data]    |     /Users/meepoom/nltk_data...\n",
      "[nltk_data]    |   Package ptb is already up-to-date!\n",
      "[nltk_data]    | Downloading package punkt to\n",
      "[nltk_data]    |     /Users/meepoom/nltk_data...\n",
      "[nltk_data]    |   Package punkt is already up-to-date!\n",
      "[nltk_data]    | Downloading package qc to /Users/meepoom/nltk_data...\n",
      "[nltk_data]    |   Package qc is already up-to-date!\n",
      "[nltk_data]    | Downloading package reuters to\n",
      "[nltk_data]    |     /Users/meepoom/nltk_data...\n",
      "[nltk_data]    |   Package reuters is already up-to-date!\n",
      "[nltk_data]    | Downloading package rslp to\n",
      "[nltk_data]    |     /Users/meepoom/nltk_data...\n",
      "[nltk_data]    |   Package rslp is already up-to-date!\n",
      "[nltk_data]    | Downloading package rte to\n",
      "[nltk_data]    |     /Users/meepoom/nltk_data...\n",
      "[nltk_data]    |   Package rte is already up-to-date!\n",
      "[nltk_data]    | Downloading package sample_grammars to\n",
      "[nltk_data]    |     /Users/meepoom/nltk_data...\n",
      "[nltk_data]    |   Package sample_grammars is already up-to-date!\n",
      "[nltk_data]    | Downloading package semcor to\n",
      "[nltk_data]    |     /Users/meepoom/nltk_data...\n",
      "[nltk_data]    |   Package semcor is already up-to-date!\n",
      "[nltk_data]    | Downloading package senseval to\n",
      "[nltk_data]    |     /Users/meepoom/nltk_data...\n",
      "[nltk_data]    |   Package senseval is already up-to-date!\n",
      "[nltk_data]    | Downloading package sentence_polarity to\n",
      "[nltk_data]    |     /Users/meepoom/nltk_data...\n",
      "[nltk_data]    |   Package sentence_polarity is already up-to-date!\n",
      "[nltk_data]    | Downloading package sentiwordnet to\n",
      "[nltk_data]    |     /Users/meepoom/nltk_data...\n",
      "[nltk_data]    |   Package sentiwordnet is already up-to-date!\n",
      "[nltk_data]    | Downloading package shakespeare to\n",
      "[nltk_data]    |     /Users/meepoom/nltk_data...\n",
      "[nltk_data]    |   Package shakespeare is already up-to-date!\n",
      "[nltk_data]    | Downloading package sinica_treebank to\n",
      "[nltk_data]    |     /Users/meepoom/nltk_data...\n",
      "[nltk_data]    |   Package sinica_treebank is already up-to-date!\n",
      "[nltk_data]    | Downloading package smultron to\n",
      "[nltk_data]    |     /Users/meepoom/nltk_data...\n",
      "[nltk_data]    |   Package smultron is already up-to-date!\n",
      "[nltk_data]    | Downloading package snowball_data to\n",
      "[nltk_data]    |     /Users/meepoom/nltk_data...\n",
      "[nltk_data]    |   Package snowball_data is already up-to-date!\n",
      "[nltk_data]    | Downloading package spanish_grammars to\n",
      "[nltk_data]    |     /Users/meepoom/nltk_data...\n",
      "[nltk_data]    |   Package spanish_grammars is already up-to-date!\n",
      "[nltk_data]    | Downloading package state_union to\n",
      "[nltk_data]    |     /Users/meepoom/nltk_data...\n",
      "[nltk_data]    |   Package state_union is already up-to-date!\n",
      "[nltk_data]    | Downloading package stopwords to\n",
      "[nltk_data]    |     /Users/meepoom/nltk_data...\n",
      "[nltk_data]    |   Package stopwords is already up-to-date!\n",
      "[nltk_data]    | Downloading package subjectivity to\n",
      "[nltk_data]    |     /Users/meepoom/nltk_data...\n",
      "[nltk_data]    |   Package subjectivity is already up-to-date!\n",
      "[nltk_data]    | Downloading package swadesh to\n",
      "[nltk_data]    |     /Users/meepoom/nltk_data...\n",
      "[nltk_data]    |   Package swadesh is already up-to-date!\n",
      "[nltk_data]    | Downloading package switchboard to\n",
      "[nltk_data]    |     /Users/meepoom/nltk_data...\n",
      "[nltk_data]    |   Package switchboard is already up-to-date!\n",
      "[nltk_data]    | Downloading package tagsets to\n",
      "[nltk_data]    |     /Users/meepoom/nltk_data...\n",
      "[nltk_data]    |   Package tagsets is already up-to-date!\n",
      "[nltk_data]    | Downloading package timit to\n",
      "[nltk_data]    |     /Users/meepoom/nltk_data...\n",
      "[nltk_data]    |   Package timit is already up-to-date!\n",
      "[nltk_data]    | Downloading package toolbox to\n",
      "[nltk_data]    |     /Users/meepoom/nltk_data...\n",
      "[nltk_data]    |   Package toolbox is already up-to-date!\n",
      "[nltk_data]    | Downloading package treebank to\n",
      "[nltk_data]    |     /Users/meepoom/nltk_data...\n",
      "[nltk_data]    |   Package treebank is already up-to-date!\n",
      "[nltk_data]    | Downloading package twitter_samples to\n",
      "[nltk_data]    |     /Users/meepoom/nltk_data...\n",
      "[nltk_data]    |   Package twitter_samples is already up-to-date!\n",
      "[nltk_data]    | Downloading package udhr to\n",
      "[nltk_data]    |     /Users/meepoom/nltk_data...\n",
      "[nltk_data]    |   Package udhr is already up-to-date!\n",
      "[nltk_data]    | Downloading package udhr2 to\n",
      "[nltk_data]    |     /Users/meepoom/nltk_data...\n",
      "[nltk_data]    |   Package udhr2 is already up-to-date!\n",
      "[nltk_data]    | Downloading package unicode_samples to\n",
      "[nltk_data]    |     /Users/meepoom/nltk_data...\n",
      "[nltk_data]    |   Package unicode_samples is already up-to-date!\n",
      "[nltk_data]    | Downloading package universal_tagset to\n",
      "[nltk_data]    |     /Users/meepoom/nltk_data...\n",
      "[nltk_data]    |   Package universal_tagset is already up-to-date!\n",
      "[nltk_data]    | Downloading package universal_treebanks_v20 to\n",
      "[nltk_data]    |     /Users/meepoom/nltk_data...\n",
      "[nltk_data]    |   Package universal_treebanks_v20 is already up-to-\n",
      "[nltk_data]    |       date!\n",
      "[nltk_data]    | Downloading package vader_lexicon to\n",
      "[nltk_data]    |     /Users/meepoom/nltk_data...\n",
      "[nltk_data]    |   Package vader_lexicon is already up-to-date!\n",
      "[nltk_data]    | Downloading package verbnet to\n",
      "[nltk_data]    |     /Users/meepoom/nltk_data...\n",
      "[nltk_data]    |   Package verbnet is already up-to-date!\n",
      "[nltk_data]    | Downloading package verbnet3 to\n",
      "[nltk_data]    |     /Users/meepoom/nltk_data...\n",
      "[nltk_data]    |   Package verbnet3 is already up-to-date!\n",
      "[nltk_data]    | Downloading package webtext to\n",
      "[nltk_data]    |     /Users/meepoom/nltk_data...\n",
      "[nltk_data]    |   Package webtext is already up-to-date!\n",
      "[nltk_data]    | Downloading package wmt15_eval to\n",
      "[nltk_data]    |     /Users/meepoom/nltk_data...\n",
      "[nltk_data]    |   Package wmt15_eval is already up-to-date!\n",
      "[nltk_data]    | Downloading package word2vec_sample to\n",
      "[nltk_data]    |     /Users/meepoom/nltk_data...\n",
      "[nltk_data]    |   Package word2vec_sample is already up-to-date!\n",
      "[nltk_data]    | Downloading package wordnet to\n",
      "[nltk_data]    |     /Users/meepoom/nltk_data...\n",
      "[nltk_data]    |   Package wordnet is already up-to-date!\n",
      "[nltk_data]    | Downloading package wordnet2021 to\n",
      "[nltk_data]    |     /Users/meepoom/nltk_data...\n",
      "[nltk_data]    |   Package wordnet2021 is already up-to-date!\n",
      "[nltk_data]    | Downloading package wordnet2022 to\n",
      "[nltk_data]    |     /Users/meepoom/nltk_data...\n",
      "[nltk_data]    |   Package wordnet2022 is already up-to-date!\n",
      "[nltk_data]    | Downloading package wordnet31 to\n",
      "[nltk_data]    |     /Users/meepoom/nltk_data...\n",
      "[nltk_data]    |   Package wordnet31 is already up-to-date!\n",
      "[nltk_data]    | Downloading package wordnet_ic to\n",
      "[nltk_data]    |     /Users/meepoom/nltk_data...\n",
      "[nltk_data]    |   Package wordnet_ic is already up-to-date!\n",
      "[nltk_data]    | Downloading package words to\n",
      "[nltk_data]    |     /Users/meepoom/nltk_data...\n",
      "[nltk_data]    |   Package words is already up-to-date!\n",
      "[nltk_data]    | Downloading package ycoe to\n",
      "[nltk_data]    |     /Users/meepoom/nltk_data...\n",
      "[nltk_data]    |   Package ycoe is already up-to-date!\n",
      "[nltk_data]    | \n",
      "[nltk_data]  Done downloading collection all\n"
     ]
    }
   ],
   "source": [
    "import pandas as pd\n",
    "import numpy as np\n",
    "from bs4 import BeautifulSoup as bs\n",
    "import matplotlib.pyplot as plt\n",
    "from matplotlib import cm\n",
    "import seaborn as sns\n",
    "import re\n",
    "import string\n",
    "from nltk.corpus import stopwords\n",
    "from nltk.corpus import wordnet\n",
    "from nltk.stem import WordNetLemmatizer\n",
    "from nltk import NLTKWordTokenizer\n",
    "from nltk.tag import pos_tag\n",
    "import nltk\n",
    "nltk.download('all')\n",
    "import spacy\n",
    "from math import sqrt\n",
    "\n",
    "from sklearn.model_selection import train_test_split, cross_val_score\n",
    "from sklearn.linear_model import LinearRegression, LogisticRegression\n",
    "from sklearn.neighbors import KNeighborsRegressor, KNeighborsClassifier\n",
    "from sklearn.tree import DecisionTreeRegressor, DecisionTreeClassifier\n",
    "from sklearn.preprocessing import StandardScaler\n",
    "from sklearn.ensemble import BaggingRegressor, BaggingClassifier, RandomForestRegressor, RandomForestClassifier, AdaBoostRegressor, AdaBoostClassifier\n",
    "from sklearn.metrics import mean_squared_error, f1_score\n",
    "from sklearn import svm\n",
    "from sklearn.feature_extraction.text import CountVectorizer, TfidfVectorizer"
   ]
  },
  {
   "cell_type": "markdown",
   "metadata": {},
   "source": [
    "# Load Data"
   ]
  },
  {
   "cell_type": "markdown",
   "metadata": {},
   "source": [
    "#### Subreddit Community : running"
   ]
  },
  {
   "cell_type": "code",
   "execution_count": 2,
   "metadata": {},
   "outputs": [],
   "source": [
    "#data_1 = pd.read_csv(\"data//community_running.csv\")\n",
    "#data_1['subreddit'] = \"running\"\n",
    "\n",
    "data_1 = pd.read_json(\"data//running.json\")\n",
    "data_1['subreddit'] = \"running\""
   ]
  },
  {
   "cell_type": "markdown",
   "metadata": {},
   "source": [
    "#### Subreddit Community : CampingandHiking"
   ]
  },
  {
   "cell_type": "code",
   "execution_count": 3,
   "metadata": {},
   "outputs": [
    {
     "name": "stdout",
     "output_type": "stream",
     "text": [
      "CPU times: user 37.8 ms, sys: 6.55 ms, total: 44.3 ms\n",
      "Wall time: 46 ms\n"
     ]
    }
   ],
   "source": [
    "%%time \n",
    "data_2 = pd.read_json(\"data//CampingandHiking.json\")\n",
    "data_2['subreddit'] = \"CampingandHiking\""
   ]
  },
  {
   "cell_type": "markdown",
   "metadata": {},
   "source": [
    "## Data Prepare - sample_data"
   ]
  },
  {
   "cell_type": "markdown",
   "metadata": {},
   "source": [
    "### Sample Data 1 - Community Running"
   ]
  },
  {
   "cell_type": "code",
   "execution_count": 4,
   "metadata": {},
   "outputs": [],
   "source": [
    "## Select feature from main data and convect unix date to normal, and rename column name\n",
    "\n",
    "#sample_data_1 = data_1[[\"title\",\"selftext\",\"subreddit\"]]\n",
    "#sample_data_1['date'] = pd.to_datetime(data_1['created_utc'],unit='s').dt.date\n",
    "\n",
    "#sample_data_1.rename(columns = {'selftext':'text'}, inplace = True)\n",
    "#sample_data_1.drop_duplicates('title')"
   ]
  },
  {
   "cell_type": "code",
   "execution_count": 5,
   "metadata": {},
   "outputs": [],
   "source": [
    "sample_data_1 = data_1[[\"title\",\"text\",\"subreddit\",\"date\"]]"
   ]
  },
  {
   "cell_type": "code",
   "execution_count": 6,
   "metadata": {},
   "outputs": [],
   "source": [
    "sample_data_2 = data_2[[\"title\",\"text\",\"subreddit\",\"date\"]]"
   ]
  },
  {
   "cell_type": "markdown",
   "metadata": {},
   "source": [
    "## Create Train Data"
   ]
  },
  {
   "cell_type": "markdown",
   "metadata": {},
   "source": [
    "### Combine two dataset"
   ]
  },
  {
   "cell_type": "code",
   "execution_count": 7,
   "metadata": {},
   "outputs": [],
   "source": [
    "train_data = pd.concat([sample_data_1, sample_data_2], axis=0).reset_index(drop=True)"
   ]
  },
  {
   "cell_type": "code",
   "execution_count": 8,
   "metadata": {},
   "outputs": [
    {
     "name": "stdout",
     "output_type": "stream",
     "text": [
      "<class 'pandas.core.frame.DataFrame'>\n",
      "RangeIndex: 37849 entries, 0 to 37848\n",
      "Data columns (total 4 columns):\n",
      " #   Column     Non-Null Count  Dtype         \n",
      "---  ------     --------------  -----         \n",
      " 0   title      37849 non-null  object        \n",
      " 1   text       26504 non-null  object        \n",
      " 2   subreddit  37849 non-null  object        \n",
      " 3   date       37849 non-null  datetime64[ns]\n",
      "dtypes: datetime64[ns](1), object(3)\n",
      "memory usage: 1.2+ MB\n"
     ]
    }
   ],
   "source": [
    "train_data.info()"
   ]
  },
  {
   "cell_type": "markdown",
   "metadata": {},
   "source": [
    "### Drop Duplicate Title"
   ]
  },
  {
   "cell_type": "code",
   "execution_count": 9,
   "metadata": {},
   "outputs": [
    {
     "name": "stdout",
     "output_type": "stream",
     "text": [
      "Total title: 10951 duplicate , remain: 7649 titles.\n"
     ]
    }
   ],
   "source": [
    "# Remove duplicate title\n",
    "train_data = train_data.drop_duplicates('title')\n",
    "train_data = train_data.drop_duplicates('text')\n",
    "print(f\"Total title: {len(sample_data_1) - len(train_data)} duplicate , remain: {len(train_data)} titles.\")"
   ]
  },
  {
   "cell_type": "code",
   "execution_count": 10,
   "metadata": {},
   "outputs": [
    {
     "data": {
      "text/plain": [
       "subreddit\n",
       "running             3837\n",
       "CampingandHiking    3812\n",
       "Name: count, dtype: int64"
      ]
     },
     "execution_count": 10,
     "metadata": {},
     "output_type": "execute_result"
    }
   ],
   "source": [
    "train_data.subreddit.value_counts()"
   ]
  },
  {
   "cell_type": "code",
   "execution_count": 11,
   "metadata": {},
   "outputs": [
    {
     "data": {
      "text/plain": [
       "text\n",
       "[removed]                                                                                                                                                                                                                                                                                                                                                                                                                                                                                                                                                                                                                                                                                                                                                                                                                                                                                                                                                                                                                                                                                                                                                                                                                                                                                                                                                                                                                                                                                                                                                                                                                                                                                                                                                                                                                                                                                                                                                                                                                                                                                                                                                                                                                                                                                                                                                                                                                                                                                                                                                                                                                                                                                                                                                                        1\n",
       "Experienced tent-hammockers: what would you recommend for somebody with a budget of around $200? The gear I'll need to purchase with that money include the tent hammock itself w/ bug net and rain fly, as well as a pad/underquilt. All other gear I'd need for this type of camping is accounted for. I'll need items that aren't terribly large or heavy when packing, but are high quality and durable enough for temps in the low 30s F . There's so many options out there, I got tired of reading and decided I'd ask the experts. Any advice is appreciated!                                                                                                                                                                                                                                                                                                                                                                                                                                                                                                                                                                                                                                                                                                                                                                                                                                                                                                                                                                                                                                                                                                                                                                                                                                                                                                                                                                                                                                                                                                                                                                                                                                                                                                                                                                                                                                                                                                                                                                                                                                                                                                                                                                                                            1\n",
       "I plan on visiting the Zhangjiajie National Forest Park while on a trip to China. I am an avid hiker and backpacker and would love to cover as much of the park as I can. I'm a 30 year old white, 6'3\" male so I have that going for me safety-wise. I think a guide would be the smartest thing but I don't want to be slowed down by a huge group of people who aren't in great hiking shape. So... are there any guides you can recommend and/or can I backpack and camp in the park by myself (would you recommend against that?). Lastly, any tips or suggestions for this trip would be great! I plan on ~4 days, 3 nights.\\n\\n\\nhttps://preview.redd.it/ekog8sr966531.png?width=768&format=png&auto=webp&s=82eeb3496d468fea7cf93816103e08aabd8f0c0b                                                                                                                                                                                                                                                                                                                                                                                                                                                                                                                                                                                                                                                                                                                                                                                                                                                                                                                                                                                                                                                                                                                                                                                                                                                                                                                                                                                                                                                                                                                                                                                                                                                                                                                                                                                                                                                                                                                                                                                                                      1\n",
       "Hi all,\\n\\n\\nI am wondering if anyone with knowledge about canoes can lend me some expertise. I have come upon a canoe that I am planning to sell, but I do now have any knowledge about properly valuing the boat. It is a Bell Works Canoe- NorthStar Model in fairly well condition. I know the company is no longer around, so the canoe is no longer being manufactured which I believe increases the value. After limited looking around the internet, I came up with the value of $2000. Please let me know if I am pricing my canoe correctly. Appreciate any help!                                                                                                                                                                                                                                                                                                                                                                                                                                                                                                                                                                                                                                                                                                                                                                                                                                                                                                                                                                                                                                                                                                                                                                                                                                                                                                                                                                                                                                                                                                                                                                                                                                                                                                                                                                                                                                                                                                                                                                                                                                                                                                                                                                                                      1\n",
       "So, first some background, I love camping, the wilderness, the backcountry, bushcraft, survival, no matter what it is, I want seclusion and remote places to trap/hunt/prep my own food, clean my own water, bring more tools, less gear, the whole 9 yards.\\n\\n\\n&#x200B;\\n\\n\\nMy boyfriend on the other hand ... has never done these things, I think if he did he would find joy in them, he likes crafting and problem-solving, \\nthe only issue is he is afraid of bears/wolves/coyotes\\n ... We have gone car camping several times! In state parks, smaller parks ... I don't feel one bit connected to nature, we are not even allowed to pick up firewood in these places, much less feel the need to craft anything, surrounded by people. \\n\\n\\n&#x200B;\\n\\n\\nI took him to a remote, but established, campsite in the Apalachicola (Florida state) forest one year, but everything went wrong. we had car trouble and showed up just a few minutes before sunset so it was a struggle to get anything set up. he didn't want to go in the dark with a flashlight to collect firewood with me and he definitely didn't want to sit in the tent alone, so no fire that night. I didn't see much of a problem with no fire as I knew a lot about the location, it wasn't cold, we had no food open to attract anything, and people were using the boat ramp in eyes view frequently enough throughout the night, I had no worry for bears ... but during the night, distant howls (at least a couple miles away) drove him to fear, and into the car ... we slept the rest of that night at a truck stop in the next town over. the following night we went to a small camping park in Tallahassee, surrounded by people, all sides of the park not only in walking distance, but in view. it was small. This one bad experience has him at a firm decision to not try this again... not without an RV ... which we do not own.\\n\\n\\n&#x200B;\\n\\n\\nSo, after all that, I can take him hammock camping all week long in a state park, with lots of people, I can simulate a wilderness trip (i.e. try not to bring anything but crafting material), teach him bushcraft, teach him survival skills... but the minute I bring up camping anywhere without people, he doesn't want to for the single reason that there are bears/etc.\\n\\n\\n&#x200B;\\n\\n\\nAre there any solutions to help people stay safe and feel safe while backcountry camping? Bear defense classes? Places or scenarios to camp to get closer to nature gradually? ...I'm not sure what would help him ... maybe visiting a bear camp and learning about and meeting bears/wolves... but he says that doesn't matter because \"wild\" animals are dangerous. Any advice is very much appreciated!!!!    1\n",
       "                                                                                                                                                                                                                                                                                                                                                                                                                                                                                                                                                                                                                                                                                                                                                                                                                                                                                                                                                                                                                                                                                                                                                                                                                                                                                                                                                                                                                                                                                                                                                                                                                                                                                                                                                                                                                                                                                                                                                                                                                                                                                                                                                                                                                                                                                                                                                                                                                                                                                                                                                                                                                                                                                                                                                                                ..\n",
       "Okay, I love running, but I’m not a fan of the running shorts that have an underwear liner built in. I’m trying to find a good pair. Does anyone have recommendations for running shorts without a liner?                                                                                                                                                                                                                                                                                                                                                                                                                                                                                                                                                                                                                                                                                                                                                                                                                                                                                                                                                                                                                                                                                                                                                                                                                                                                                                                                                                                                                                                                                                                                                                                                                                                                                                                                                                                                                                                                                                                                                                                                                                                                                                                                                                                                                                                                                                                                                                                                                                                                                                                                                                        1\n",
       "My tibia swells up and I get fatigue in my lower half leg. Then i started getting shin splints.\\n\\n\\nIssue is I’m starting fitness a year after and just walking is flaring up my tibia and lower leg. \\n\\n\\nAny tips?\\n\\n\\nEdit: currently using Saucony Guides                                                                                                                                                                                                                                                                                                                                                                                                                                                                                                                                                                                                                                                                                                                                                                                                                                                                                                                                                                                                                                                                                                                                                                                                                                                                                                                                                                                                                                                                                                                                                                                                                                                                                                                                                                                                                                                                                                                                                                                                                                                                                                                                                                                                                                                                                                                                                                                                                                                                                                                 1\n",
       "My wife and I are running our first half marathon next February - \\nDeath Valley Half Marathon\\n.\\n\\n\\nWe are both in reasonably good shape but I'm certainly not a runner (in the past, she's run that distance for fun).\\n\\n\\nI do enjoy running and I usually run ~2-3 miles a couple times a week, but only as a warm-up or to end my workouts. But mostly, I have always focused on a combination of climbing and lifting.\\n\\n\\nI'm really excited and eager to do the race, and in many ways using it as a forcing function to up my training regimen and cardiovascular fitness. \\n\\n\\nSo, given that I have 5 months between now and the race, what are some lessons, suggestions, training tips etc that you'd give someone who's probably never done that distance before?\\n\\n\\nWelcome any and all advice, big and small! Thank you all in advance.                                                                                                                                                                                                                                                                                                                                                                                                                                                                                                                                                                                                                                                                                                                                                                                                                                                                                                                                                                                                                                                                                                                                                                                                                                                                                                                                                                                                                                                                                                                                                                                                                                                                                                                                                                                                                                                                                                                   1\n",
       "I just started running more seriously and have just started to do a 10k every week (3 weeks in a row now) Right now I’m hovering around 60 minutes for the 10k (fastest was a 5:58/km) I want to get my 10k time below 50 minutes. The problem is I only have time for a long run on the weekend, during the week I have:\\n\\n\\nMonday: 15 minutes\\nTuesday: 25 minutes\\nWednesday: 25 minutes\\nThursday: 15 minutes\\nFriday: 20 minutes\\nSaturday: 75 minutes\\n\\n\\nWhat’s the best way to use my limited time to get a faster 10k?                                                                                                                                                                                                                                                                                                                                                                                                                                                                                                                                                                                                                                                                                                                                                                                                                                                                                                                                                                                                                                                                                                                                                                                                                                                                                                                                                                                                                                                                                                                                                                                                                                                                                                                                                                                                                                                                                                                                                                                                                                                                                                                                                                                                                                               1\n",
       "Hi everyone,\\n\\n\\nI am going to iceland at the end of June with my buddy to hike the Laugavegur and some other trails. We are a little bit worried about strong winds.\\nA lot of people recommend the Hilleberg Akto. But we cant afford to each buy one for so much money.\\nI found a used Hilleberg Anjan 3 and wondered if anyone has some experience with it. How is it in strong winds and how is it for two people?\\n\\n\\nAny other good alternatives are really appreciated.\\nThank you                                                                                                                                                                                                                                                                                                                                                                                                                                                                                                                                                                                                                                                                                                                                                                                                                                                                                                                                                                                                                                                                                                                                                                                                                                                                                                                                                                                                                                                                                                                                                                                                                                                                                                                                                                                                                                                                                                                                                                                                                                                                                                                                                                                                                                                                                    1\n",
       "Name: count, Length: 7648, dtype: int64"
      ]
     },
     "execution_count": 11,
     "metadata": {},
     "output_type": "execute_result"
    }
   ],
   "source": [
    "train_data['text'].value_counts()"
   ]
  },
  {
   "cell_type": "markdown",
   "metadata": {},
   "source": [
    "### Remove Null Value\n",
    "There are 3 types of missing values:\n",
    "1. null values\n",
    "2. `[removed]`\n",
    "3. `[deleted]`\n"
   ]
  },
  {
   "cell_type": "code",
   "execution_count": 12,
   "metadata": {},
   "outputs": [
    {
     "data": {
      "text/plain": [
       "title        0\n",
       "text         1\n",
       "subreddit    0\n",
       "date         0\n",
       "dtype: int64"
      ]
     },
     "execution_count": 12,
     "metadata": {},
     "output_type": "execute_result"
    }
   ],
   "source": [
    "train_data.isnull().sum()"
   ]
  },
  {
   "cell_type": "code",
   "execution_count": 13,
   "metadata": {},
   "outputs": [
    {
     "data": {
      "text/html": [
       "<div>\n",
       "<style scoped>\n",
       "    .dataframe tbody tr th:only-of-type {\n",
       "        vertical-align: middle;\n",
       "    }\n",
       "\n",
       "    .dataframe tbody tr th {\n",
       "        vertical-align: top;\n",
       "    }\n",
       "\n",
       "    .dataframe thead th {\n",
       "        text-align: right;\n",
       "    }\n",
       "</style>\n",
       "<table border=\"1\" class=\"dataframe\">\n",
       "  <thead>\n",
       "    <tr style=\"text-align: right;\">\n",
       "      <th></th>\n",
       "      <th>title</th>\n",
       "      <th>text</th>\n",
       "      <th>subreddit</th>\n",
       "      <th>date</th>\n",
       "    </tr>\n",
       "  </thead>\n",
       "  <tbody>\n",
       "    <tr>\n",
       "      <th>13</th>\n",
       "      <td>Resolution Run 2018. 12 rounds of the track to...</td>\n",
       "      <td>None</td>\n",
       "      <td>running</td>\n",
       "      <td>2018-01-02</td>\n",
       "    </tr>\n",
       "  </tbody>\n",
       "</table>\n",
       "</div>"
      ],
      "text/plain": [
       "                                                title  text subreddit  \\\n",
       "13  Resolution Run 2018. 12 rounds of the track to...  None   running   \n",
       "\n",
       "         date  \n",
       "13 2018-01-02  "
      ]
     },
     "execution_count": 13,
     "metadata": {},
     "output_type": "execute_result"
    }
   ],
   "source": [
    "train_data[train_data[\"text\"].isnull() == True]"
   ]
  },
  {
   "cell_type": "code",
   "execution_count": 14,
   "metadata": {},
   "outputs": [
    {
     "data": {
      "text/html": [
       "<div>\n",
       "<style scoped>\n",
       "    .dataframe tbody tr th:only-of-type {\n",
       "        vertical-align: middle;\n",
       "    }\n",
       "\n",
       "    .dataframe tbody tr th {\n",
       "        vertical-align: top;\n",
       "    }\n",
       "\n",
       "    .dataframe thead th {\n",
       "        text-align: right;\n",
       "    }\n",
       "</style>\n",
       "<table border=\"1\" class=\"dataframe\">\n",
       "  <thead>\n",
       "    <tr style=\"text-align: right;\">\n",
       "      <th></th>\n",
       "      <th>title</th>\n",
       "      <th>text</th>\n",
       "      <th>subreddit</th>\n",
       "      <th>date</th>\n",
       "    </tr>\n",
       "  </thead>\n",
       "  <tbody>\n",
       "    <tr>\n",
       "      <th>0</th>\n",
       "      <td>Tendinosis finally healing</td>\n",
       "      <td>[removed]</td>\n",
       "      <td>running</td>\n",
       "      <td>2018-01-02</td>\n",
       "    </tr>\n",
       "  </tbody>\n",
       "</table>\n",
       "</div>"
      ],
      "text/plain": [
       "                        title       text subreddit       date\n",
       "0  Tendinosis finally healing  [removed]   running 2018-01-02"
      ]
     },
     "execution_count": 14,
     "metadata": {},
     "output_type": "execute_result"
    }
   ],
   "source": [
    "train_data[train_data[\"text\"] == \"[removed]\"]"
   ]
  },
  {
   "cell_type": "code",
   "execution_count": 15,
   "metadata": {},
   "outputs": [],
   "source": [
    "train_data = train_data.replace({\"[removed]\": \"\"})\n",
    "train_data = train_data.replace(np.nan, \"\")"
   ]
  },
  {
   "cell_type": "markdown",
   "metadata": {},
   "source": [
    "### Create Target Column from Title & Text"
   ]
  },
  {
   "cell_type": "code",
   "execution_count": 16,
   "metadata": {},
   "outputs": [
    {
     "data": {
      "text/html": [
       "<div>\n",
       "<style scoped>\n",
       "    .dataframe tbody tr th:only-of-type {\n",
       "        vertical-align: middle;\n",
       "    }\n",
       "\n",
       "    .dataframe tbody tr th {\n",
       "        vertical-align: top;\n",
       "    }\n",
       "\n",
       "    .dataframe thead th {\n",
       "        text-align: right;\n",
       "    }\n",
       "</style>\n",
       "<table border=\"1\" class=\"dataframe\">\n",
       "  <thead>\n",
       "    <tr style=\"text-align: right;\">\n",
       "      <th></th>\n",
       "      <th>title</th>\n",
       "      <th>text</th>\n",
       "      <th>subreddit</th>\n",
       "      <th>date</th>\n",
       "      <th>target</th>\n",
       "    </tr>\n",
       "  </thead>\n",
       "  <tbody>\n",
       "    <tr>\n",
       "      <th>0</th>\n",
       "      <td>Tendinosis finally healing</td>\n",
       "      <td></td>\n",
       "      <td>running</td>\n",
       "      <td>2018-01-02</td>\n",
       "      <td>Tendinosis finally healing</td>\n",
       "    </tr>\n",
       "    <tr>\n",
       "      <th>4</th>\n",
       "      <td>Cold running is..new and rough</td>\n",
       "      <td>It's been 6 years since I ran in ANY cold and ...</td>\n",
       "      <td>running</td>\n",
       "      <td>2018-01-02</td>\n",
       "      <td>Cold running is..new and rough It's been 6 yea...</td>\n",
       "    </tr>\n",
       "    <tr>\n",
       "      <th>8</th>\n",
       "      <td>Super Moronic Monday -- Your Tuesday Weekly St...</td>\n",
       "      <td>It's Tuesday, which means it is time for Moron...</td>\n",
       "      <td>running</td>\n",
       "      <td>2018-01-02</td>\n",
       "      <td>Super Moronic Monday -- Your Tuesday Weekly St...</td>\n",
       "    </tr>\n",
       "    <tr>\n",
       "      <th>9</th>\n",
       "      <td>Flitch Way NYE Trail Marathon</td>\n",
       "      <td>[deleted]</td>\n",
       "      <td>running</td>\n",
       "      <td>2018-01-02</td>\n",
       "      <td>Flitch Way NYE Trail Marathon [deleted]</td>\n",
       "    </tr>\n",
       "    <tr>\n",
       "      <th>13</th>\n",
       "      <td>Resolution Run 2018. 12 rounds of the track to...</td>\n",
       "      <td></td>\n",
       "      <td>running</td>\n",
       "      <td>2018-01-02</td>\n",
       "      <td>Resolution Run 2018. 12 rounds of the track to...</td>\n",
       "    </tr>\n",
       "  </tbody>\n",
       "</table>\n",
       "</div>"
      ],
      "text/plain": [
       "                                                title  \\\n",
       "0                          Tendinosis finally healing   \n",
       "4                      Cold running is..new and rough   \n",
       "8   Super Moronic Monday -- Your Tuesday Weekly St...   \n",
       "9                       Flitch Way NYE Trail Marathon   \n",
       "13  Resolution Run 2018. 12 rounds of the track to...   \n",
       "\n",
       "                                                 text subreddit       date  \\\n",
       "0                                                       running 2018-01-02   \n",
       "4   It's been 6 years since I ran in ANY cold and ...   running 2018-01-02   \n",
       "8   It's Tuesday, which means it is time for Moron...   running 2018-01-02   \n",
       "9                                           [deleted]   running 2018-01-02   \n",
       "13                                                      running 2018-01-02   \n",
       "\n",
       "                                               target  \n",
       "0                         Tendinosis finally healing   \n",
       "4   Cold running is..new and rough It's been 6 yea...  \n",
       "8   Super Moronic Monday -- Your Tuesday Weekly St...  \n",
       "9             Flitch Way NYE Trail Marathon [deleted]  \n",
       "13  Resolution Run 2018. 12 rounds of the track to...  "
      ]
     },
     "execution_count": 16,
     "metadata": {},
     "output_type": "execute_result"
    }
   ],
   "source": [
    "train_data['target'] = train_data['title'] + ' '+ train_data['text']\n",
    "train_data.head()"
   ]
  },
  {
   "cell_type": "markdown",
   "metadata": {},
   "source": [
    "### Remove None Word"
   ]
  },
  {
   "cell_type": "code",
   "execution_count": 17,
   "metadata": {},
   "outputs": [],
   "source": [
    "def text_cleaning(text):\n",
    "    punc = re.sub(r\"[/%]\", \"\", string.punctuation)                  # Remove Punctuation\n",
    "    clean = \"\".join(l for l in text if l not in punc)               # Remove Punctuation\n",
    "    \n",
    "    text = bs(clean)\n",
    "    clean = text.get_text(strip=True)\n",
    "    clean = re.sub(r\"(\\\\n)+\", \" \", clean)\n",
    "    clean = re.sub(r\"(\\n)+\", \" \", clean)\n",
    "    clean = re.sub(r\"http\\S+|www.\\S+\", \"\", clean)\n",
    "    clean = clean.lower()\n",
    "    return clean"
   ]
  },
  {
   "cell_type": "code",
   "execution_count": 18,
   "metadata": {},
   "outputs": [
    {
     "name": "stderr",
     "output_type": "stream",
     "text": [
      "/var/folders/mf/6mt5qmss0f96q77c2c1530ch0000gn/T/ipykernel_2383/4165698117.py:5: MarkupResemblesLocatorWarning: The input looks more like a filename than markup. You may want to open this file and pass the filehandle into Beautiful Soup.\n",
      "  text = bs(clean)\n"
     ]
    }
   ],
   "source": [
    "train_data['target']=train_data['target'].apply(text_cleaning)"
   ]
  },
  {
   "cell_type": "code",
   "execution_count": 19,
   "metadata": {},
   "outputs": [
    {
     "data": {
      "text/plain": [
       "array(['running', 'CampingandHiking'], dtype=object)"
      ]
     },
     "execution_count": 19,
     "metadata": {},
     "output_type": "execute_result"
    }
   ],
   "source": [
    "train_data['subreddit'].unique()"
   ]
  },
  {
   "cell_type": "markdown",
   "metadata": {},
   "source": [
    "### Convert Subreddit target from Word to Number\n",
    "* running = 0\n",
    "* CampingandHiking = 1"
   ]
  },
  {
   "cell_type": "code",
   "execution_count": 20,
   "metadata": {},
   "outputs": [
    {
     "data": {
      "text/html": [
       "<div>\n",
       "<style scoped>\n",
       "    .dataframe tbody tr th:only-of-type {\n",
       "        vertical-align: middle;\n",
       "    }\n",
       "\n",
       "    .dataframe tbody tr th {\n",
       "        vertical-align: top;\n",
       "    }\n",
       "\n",
       "    .dataframe thead th {\n",
       "        text-align: right;\n",
       "    }\n",
       "</style>\n",
       "<table border=\"1\" class=\"dataframe\">\n",
       "  <thead>\n",
       "    <tr style=\"text-align: right;\">\n",
       "      <th></th>\n",
       "      <th>title</th>\n",
       "      <th>text</th>\n",
       "      <th>subreddit</th>\n",
       "      <th>date</th>\n",
       "      <th>target</th>\n",
       "    </tr>\n",
       "  </thead>\n",
       "  <tbody>\n",
       "    <tr>\n",
       "      <th>0</th>\n",
       "      <td>Tendinosis finally healing</td>\n",
       "      <td></td>\n",
       "      <td>0</td>\n",
       "      <td>2018-01-02</td>\n",
       "      <td>tendinosis finally healing</td>\n",
       "    </tr>\n",
       "    <tr>\n",
       "      <th>4</th>\n",
       "      <td>Cold running is..new and rough</td>\n",
       "      <td>It's been 6 years since I ran in ANY cold and ...</td>\n",
       "      <td>0</td>\n",
       "      <td>2018-01-02</td>\n",
       "      <td>cold running isnew and rough its been 6 years ...</td>\n",
       "    </tr>\n",
       "    <tr>\n",
       "      <th>8</th>\n",
       "      <td>Super Moronic Monday -- Your Tuesday Weekly St...</td>\n",
       "      <td>It's Tuesday, which means it is time for Moron...</td>\n",
       "      <td>0</td>\n",
       "      <td>2018-01-02</td>\n",
       "      <td>super moronic monday  your tuesday weekly stup...</td>\n",
       "    </tr>\n",
       "    <tr>\n",
       "      <th>9</th>\n",
       "      <td>Flitch Way NYE Trail Marathon</td>\n",
       "      <td>[deleted]</td>\n",
       "      <td>0</td>\n",
       "      <td>2018-01-02</td>\n",
       "      <td>flitch way nye trail marathon deleted</td>\n",
       "    </tr>\n",
       "    <tr>\n",
       "      <th>13</th>\n",
       "      <td>Resolution Run 2018. 12 rounds of the track to...</td>\n",
       "      <td></td>\n",
       "      <td>0</td>\n",
       "      <td>2018-01-02</td>\n",
       "      <td>resolution run 2018 12 rounds of the track to ...</td>\n",
       "    </tr>\n",
       "  </tbody>\n",
       "</table>\n",
       "</div>"
      ],
      "text/plain": [
       "                                                title  \\\n",
       "0                          Tendinosis finally healing   \n",
       "4                      Cold running is..new and rough   \n",
       "8   Super Moronic Monday -- Your Tuesday Weekly St...   \n",
       "9                       Flitch Way NYE Trail Marathon   \n",
       "13  Resolution Run 2018. 12 rounds of the track to...   \n",
       "\n",
       "                                                 text  subreddit       date  \\\n",
       "0                                                              0 2018-01-02   \n",
       "4   It's been 6 years since I ran in ANY cold and ...          0 2018-01-02   \n",
       "8   It's Tuesday, which means it is time for Moron...          0 2018-01-02   \n",
       "9                                           [deleted]          0 2018-01-02   \n",
       "13                                                             0 2018-01-02   \n",
       "\n",
       "                                               target  \n",
       "0                          tendinosis finally healing  \n",
       "4   cold running isnew and rough its been 6 years ...  \n",
       "8   super moronic monday  your tuesday weekly stup...  \n",
       "9               flitch way nye trail marathon deleted  \n",
       "13  resolution run 2018 12 rounds of the track to ...  "
      ]
     },
     "execution_count": 20,
     "metadata": {},
     "output_type": "execute_result"
    }
   ],
   "source": [
    "train_data['subreddit'] = train_data['subreddit'].map({'running':int(0), 'CampingandHiking':int(1)})\n",
    "train_data.head()"
   ]
  },
  {
   "cell_type": "markdown",
   "metadata": {},
   "source": [
    "# NLP Process"
   ]
  },
  {
   "cell_type": "markdown",
   "metadata": {},
   "source": [
    "## Lemmatizing,Tokenize & POS Tagging\n",
    "\n",
    "<img src=\"/Users/meepoom/Library/CloudStorage/OneDrive-Personal/Data_Science/DSi03/Project_3/img/nltk_pos_tag.jpeg\" alt=\"Drawing\" style=\"width: 500px;\"/>\n",
    "\n",
    "- POS-tagger, processes a sequence of words, and attaches a part of speech tag to each word. To do this first we have to use tokenization concept (Tokenization is the process by dividing the quantity of text into smaller parts called tokens.)"
   ]
  },
  {
   "cell_type": "code",
   "execution_count": 21,
   "metadata": {},
   "outputs": [
    {
     "data": {
      "text/plain": [
       "[('John', 'NNP'),\n",
       " (\"'s\", 'POS'),\n",
       " ('big', 'JJ'),\n",
       " ('idea', 'NN'),\n",
       " ('is', 'VBZ'),\n",
       " (\"n't\", 'RB'),\n",
       " ('all', 'PDT'),\n",
       " ('that', 'DT'),\n",
       " ('bad', 'JJ'),\n",
       " ('.', '.')]"
      ]
     },
     "execution_count": 21,
     "metadata": {},
     "output_type": "execute_result"
    }
   ],
   "source": [
    "# Sample\n",
    "pos_tag(nltk.word_tokenize(\"John's big idea isn't all that bad.\"))"
   ]
  },
  {
   "cell_type": "code",
   "execution_count": 22,
   "metadata": {},
   "outputs": [
    {
     "name": "stdout",
     "output_type": "stream",
     "text": [
      "CPU times: user 2 µs, sys: 0 ns, total: 2 µs\n",
      "Wall time: 4.29 µs\n"
     ]
    }
   ],
   "source": [
    "%%time \n",
    "def get_wordnet_pos(word):\n",
    "    tag = pos_tag([word])[0][1][0].upper()\n",
    "    tag_dict = {\"J\": wordnet.ADJ,\n",
    "                \"N\": wordnet.NOUN,\n",
    "                \"V\": wordnet.VERB,\n",
    "                \"R\": wordnet.ADV}\n",
    "\n",
    "    return tag_dict.get(tag, wordnet.NOUN)\n",
    "\n",
    "def lemma(text):\n",
    "    lemmatizer = WordNetLemmatizer()\n",
    "    return [lemmatizer.lemmatize(w, get_wordnet_pos(w)) for w in nltk.word_tokenize(text)]"
   ]
  },
  {
   "cell_type": "markdown",
   "metadata": {},
   "source": [
    "## Stop Word"
   ]
  },
  {
   "cell_type": "code",
   "execution_count": 23,
   "metadata": {},
   "outputs": [
    {
     "name": "stdout",
     "output_type": "stream",
     "text": [
      "CPU times: user 270 ms, sys: 9.57 ms, total: 280 ms\n",
      "Wall time: 289 ms\n"
     ]
    }
   ],
   "source": [
    "%%time \n",
    "nlp = spacy.load(\"en_core_web_sm\")\n",
    "\n",
    "def remove_stop_words(text_column):\n",
    "    processed_texts = []\n",
    "\n",
    "    for text in text_column:\n",
    "        doc = nlp(text)\n",
    "        filtered_text = ' '.join([token.text for token in doc if not token.is_stop])\n",
    "        processed_texts.append(filtered_text)\n",
    "\n",
    "    return processed_texts"
   ]
  },
  {
   "cell_type": "code",
   "execution_count": 24,
   "metadata": {},
   "outputs": [
    {
     "name": "stdout",
     "output_type": "stream",
     "text": [
      "CPU times: user 5min 5s, sys: 8.4 s, total: 5min 13s\n",
      "Wall time: 5min 15s\n"
     ]
    }
   ],
   "source": [
    "%%time \n",
    "train_data['stop_word'] = remove_stop_words(train_data['target'])\n",
    "train_data['ltp_word'] = train_data.stop_word.apply(lemma)"
   ]
  },
  {
   "cell_type": "code",
   "execution_count": 25,
   "metadata": {},
   "outputs": [
    {
     "data": {
      "text/html": [
       "<div>\n",
       "<style scoped>\n",
       "    .dataframe tbody tr th:only-of-type {\n",
       "        vertical-align: middle;\n",
       "    }\n",
       "\n",
       "    .dataframe tbody tr th {\n",
       "        vertical-align: top;\n",
       "    }\n",
       "\n",
       "    .dataframe thead th {\n",
       "        text-align: right;\n",
       "    }\n",
       "</style>\n",
       "<table border=\"1\" class=\"dataframe\">\n",
       "  <thead>\n",
       "    <tr style=\"text-align: right;\">\n",
       "      <th></th>\n",
       "      <th>title</th>\n",
       "      <th>text</th>\n",
       "      <th>subreddit</th>\n",
       "      <th>date</th>\n",
       "      <th>target</th>\n",
       "      <th>stop_word</th>\n",
       "      <th>ltp_word</th>\n",
       "    </tr>\n",
       "  </thead>\n",
       "  <tbody>\n",
       "    <tr>\n",
       "      <th>0</th>\n",
       "      <td>Tendinosis finally healing</td>\n",
       "      <td></td>\n",
       "      <td>0</td>\n",
       "      <td>2018-01-02</td>\n",
       "      <td>tendinosis finally healing</td>\n",
       "      <td>tendinosis finally healing</td>\n",
       "      <td>[tendinosis, finally, heal]</td>\n",
       "    </tr>\n",
       "    <tr>\n",
       "      <th>4</th>\n",
       "      <td>Cold running is..new and rough</td>\n",
       "      <td>It's been 6 years since I ran in ANY cold and ...</td>\n",
       "      <td>0</td>\n",
       "      <td>2018-01-02</td>\n",
       "      <td>cold running isnew and rough its been 6 years ...</td>\n",
       "      <td>cold running isnew rough 6 years ran cold wet ...</td>\n",
       "      <td>[cold, run, isnew, rough, 6, year, ran, cold, ...</td>\n",
       "    </tr>\n",
       "    <tr>\n",
       "      <th>8</th>\n",
       "      <td>Super Moronic Monday -- Your Tuesday Weekly St...</td>\n",
       "      <td>It's Tuesday, which means it is time for Moron...</td>\n",
       "      <td>0</td>\n",
       "      <td>2018-01-02</td>\n",
       "      <td>super moronic monday  your tuesday weekly stup...</td>\n",
       "      <td>super moronic monday   tuesday weekly stupid q...</td>\n",
       "      <td>[super, moronic, monday, tuesday, weekly, stup...</td>\n",
       "    </tr>\n",
       "    <tr>\n",
       "      <th>9</th>\n",
       "      <td>Flitch Way NYE Trail Marathon</td>\n",
       "      <td>[deleted]</td>\n",
       "      <td>0</td>\n",
       "      <td>2018-01-02</td>\n",
       "      <td>flitch way nye trail marathon deleted</td>\n",
       "      <td>flitch way nye trail marathon deleted</td>\n",
       "      <td>[flitch, way, nye, trail, marathon, delete]</td>\n",
       "    </tr>\n",
       "    <tr>\n",
       "      <th>13</th>\n",
       "      <td>Resolution Run 2018. 12 rounds of the track to...</td>\n",
       "      <td></td>\n",
       "      <td>0</td>\n",
       "      <td>2018-01-02</td>\n",
       "      <td>resolution run 2018 12 rounds of the track to ...</td>\n",
       "      <td>resolution run 2018 12 rounds track set baseli...</td>\n",
       "      <td>[resolution, run, 2018, 12, round, track, set,...</td>\n",
       "    </tr>\n",
       "  </tbody>\n",
       "</table>\n",
       "</div>"
      ],
      "text/plain": [
       "                                                title  \\\n",
       "0                          Tendinosis finally healing   \n",
       "4                      Cold running is..new and rough   \n",
       "8   Super Moronic Monday -- Your Tuesday Weekly St...   \n",
       "9                       Flitch Way NYE Trail Marathon   \n",
       "13  Resolution Run 2018. 12 rounds of the track to...   \n",
       "\n",
       "                                                 text  subreddit       date  \\\n",
       "0                                                              0 2018-01-02   \n",
       "4   It's been 6 years since I ran in ANY cold and ...          0 2018-01-02   \n",
       "8   It's Tuesday, which means it is time for Moron...          0 2018-01-02   \n",
       "9                                           [deleted]          0 2018-01-02   \n",
       "13                                                             0 2018-01-02   \n",
       "\n",
       "                                               target  \\\n",
       "0                          tendinosis finally healing   \n",
       "4   cold running isnew and rough its been 6 years ...   \n",
       "8   super moronic monday  your tuesday weekly stup...   \n",
       "9               flitch way nye trail marathon deleted   \n",
       "13  resolution run 2018 12 rounds of the track to ...   \n",
       "\n",
       "                                            stop_word  \\\n",
       "0                          tendinosis finally healing   \n",
       "4   cold running isnew rough 6 years ran cold wet ...   \n",
       "8   super moronic monday   tuesday weekly stupid q...   \n",
       "9               flitch way nye trail marathon deleted   \n",
       "13  resolution run 2018 12 rounds track set baseli...   \n",
       "\n",
       "                                             ltp_word  \n",
       "0                         [tendinosis, finally, heal]  \n",
       "4   [cold, run, isnew, rough, 6, year, ran, cold, ...  \n",
       "8   [super, moronic, monday, tuesday, weekly, stup...  \n",
       "9         [flitch, way, nye, trail, marathon, delete]  \n",
       "13  [resolution, run, 2018, 12, round, track, set,...  "
      ]
     },
     "execution_count": 25,
     "metadata": {},
     "output_type": "execute_result"
    }
   ],
   "source": [
    "train_data.head()"
   ]
  },
  {
   "cell_type": "markdown",
   "metadata": {},
   "source": [
    "## Word Frequency"
   ]
  },
  {
   "cell_type": "code",
   "execution_count": 26,
   "metadata": {},
   "outputs": [],
   "source": [
    "data_run = train_data[train_data['subreddit'] == 0]\n",
    "data_hike = train_data[train_data['subreddit'] == 1]"
   ]
  },
  {
   "cell_type": "markdown",
   "metadata": {},
   "source": [
    "### CountVectorizer\n",
    "* Get top 20 word"
   ]
  },
  {
   "cell_type": "code",
   "execution_count": 31,
   "metadata": {},
   "outputs": [],
   "source": [
    "def get_top_n_unigram(corpus,n=None):\n",
    "\n",
    "    stopwords = 'english'\n",
    "    vec = CountVectorizer(stop_words = stopwords).fit(corpus)\n",
    "    bag_of_words = vec.transform(corpus)\n",
    "    sum_words = bag_of_words.sum(axis=0) \n",
    "    words_freq = [(word, sum_words[0, idx]) for word, idx in vec.vocabulary_.items()]\n",
    "    words_freq =sorted(words_freq, key = lambda x: x[1], reverse=True)\n",
    "    return words_freq[:n]"
   ]
  },
  {
   "cell_type": "code",
   "execution_count": 32,
   "metadata": {},
   "outputs": [],
   "source": [
    "run_top20_unigram = dict(get_top_n_unigram([word for word in data_run['stop_word']],20))\n",
    "hike_top20_unigram = dict(get_top_n_unigram([word for word in data_hike['stop_word']],20))"
   ]
  },
  {
   "cell_type": "code",
   "execution_count": 35,
   "metadata": {},
   "outputs": [],
   "source": [
    "def visualise_top_n_grams(dict1, dict2, wspace):\n",
    "    fig, axes = plt.subplots(1,2, figsize=(10,4));\n",
    "    \n",
    "    # plot the first graph\n",
    "    plt.subplot(1,2,1)\n",
    "    run = plt.barh(range(len(dict1)), dict1.values(),align = 'center',color='xkcd:lightblue');\n",
    "    \n",
    "    # label axes \n",
    "    plt.yticks(range(len(dict1)),dict1.keys(),fontsize=12);\n",
    "    plt.title('Top 20 words in Running subreddit')\n",
    "    plt.xlabel('Frequency')\n",
    "    plt.gca().invert_yaxis()\n",
    "    \n",
    "    # plot the second graph\n",
    "    plt.subplot(1,2,2)\n",
    "    hike = plt.barh(range(len(dict2)), dict2.values(),align = 'center',color='xkcd:light orange');\n",
    "    \n",
    "    # label axes \n",
    "    plt.yticks(range(len(dict2)),dict2.keys(),fontsize=12);\n",
    "    plt.title('Top 20 words in Camping & Hiking subreddit')\n",
    "    plt.xlabel('Frequency')\n",
    "    plt.gca().invert_yaxis()\n",
    "    \n",
    "    plt.subplots_adjust(wspace= wspace)\n",
    "    plt.show()"
   ]
  },
  {
   "cell_type": "code",
   "execution_count": 36,
   "metadata": {},
   "outputs": [
    {
     "data": {
      "image/png": "[encoded data removed]",
      "text/plain": [
       "<Figure size 1000x400 with 2 Axes>"
      ]
     },
     "metadata": {},
     "output_type": "display_data"
    }
   ],
   "source": [
    "visualise_top_n_grams(run_top20_unigram, hike_top20_unigram, 0.5)"
   ]
  }
 ],
 "metadata": {
  "kernelspec": {
   "display_name": "Python 3",
   "language": "python",
   "name": "python3"
  },
  "language_info": {
   "codemirror_mode": {
    "name": "ipython",
    "version": 3
   },
   "file_extension": ".py",
   "mimetype": "text/x-python",
   "name": "python",
   "nbconvert_exporter": "python",
   "pygments_lexer": "ipython3",
   "version": "3.12.0"
  }
 },
 "nbformat": 4,
 "nbformat_minor": 2
}
