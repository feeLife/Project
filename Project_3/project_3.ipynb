{
 "cells": [
  {
   "cell_type": "markdown",
   "metadata": {},
   "source": [
    "# Import Module"
   ]
  },
  {
   "cell_type": "code",
   "execution_count": 1,
   "metadata": {},
   "outputs": [],
   "source": [
    "import pandas as pd\n",
    "import numpy as np\n",
    "\n",
    "from math import sqrt\n",
    "\n",
    "from sklearn.model_selection import train_test_split, cross_val_score\n",
    "from sklearn.linear_model import LinearRegression, LogisticRegression\n",
    "from sklearn.neighbors import KNeighborsRegressor, KNeighborsClassifier\n",
    "from sklearn.tree import DecisionTreeRegressor, DecisionTreeClassifier\n",
    "from sklearn.preprocessing import StandardScaler\n",
    "from sklearn.ensemble import BaggingRegressor, BaggingClassifier, RandomForestRegressor, RandomForestClassifier, AdaBoostRegressor, AdaBoostClassifier\n",
    "from sklearn.metrics import mean_squared_error, f1_score\n",
    "from sklearn import svm\n",
    "from sklearn.feature_extraction.text import CountVectorizer, TfidfVectorizer"
   ]
  },
  {
   "cell_type": "markdown",
   "metadata": {},
   "source": [
    "# Load Data"
   ]
  },
  {
   "cell_type": "code",
   "execution_count": 16,
   "metadata": {},
   "outputs": [],
   "source": [
    "data_1 = pd.read_csv(\"data//data_running_v1.csv\")"
   ]
  },
  {
   "cell_type": "code",
   "execution_count": 17,
   "metadata": {},
   "outputs": [],
   "source": [
    "data_2 = pd.read_csv(\"data//data_v5.csv\")"
   ]
  },
  {
   "cell_type": "markdown",
   "metadata": {},
   "source": [
    "## Data Prepare - sample_data"
   ]
  },
  {
   "cell_type": "code",
   "execution_count": 31,
   "metadata": {},
   "outputs": [
    {
     "name": "stdout",
     "output_type": "stream",
     "text": [
      "                                               title   created_utc  \\\n",
      "0   Official Q&amp;A for Saturday, November 04, 2023  1.699070e+09   \n",
      "1  That Frigid Season is Here! - Annual cold / co...  1.698761e+09   \n",
      "2  Super shoes have ‘blown distance running into ...  1.699103e+09   \n",
      "3  What cool things do you with your medals? The ...  1.699108e+09   \n",
      "4   What marathon training plan would you recommend?  1.699120e+09   \n",
      "\n",
      "   subreddit_subscribers  num_comments  \n",
      "0                2684021            90  \n",
      "1                2684021           215  \n",
      "2                2684021           120  \n",
      "3                2684021            61  \n",
      "4                2684021            12  \n",
      "                                               title   created_utc  \\\n",
      "0   My New Favorite Running Sock! | Here's Jogology!  1.698928e+09   \n",
      "1                  How to train to run 7 minute mile  1.698012e+09   \n",
      "2  10 amazing healthy foods and herbs that will h...  1.697159e+09   \n",
      "3           Yes, no, why - running smartwatch to buy  1.696796e+09   \n",
      "4  I just completed my first 5K and I am happy ab...  1.696712e+09   \n",
      "\n",
      "   subreddit_subscribers  num_comments  \n",
      "0                   1742             0  \n",
      "1                   1742             0  \n",
      "2                   1742             0  \n",
      "3                   1742             0  \n",
      "4                   1742             2  \n"
     ]
    }
   ],
   "source": [
    "sample_data_1 = data_1[[\"title\",\"created_utc\",\"subreddit_subscribers\",\"num_comments\"]]\n",
    "sample_data_2 = data_2[[\"title\",\"created_utc\",\"subreddit_subscribers\",\"num_comments\"]]\n",
    "\n",
    "print(sample_data_1.head())\n",
    "print(sample_data_2.head())"
   ]
  },
  {
   "cell_type": "code",
   "execution_count": 39,
   "metadata": {},
   "outputs": [],
   "source": [
    "sample_data = [sample_data_1, sample_data_2]\n",
    " \n",
    "sample_data = pd.concat(sample_data)"
   ]
  },
  {
   "cell_type": "markdown",
   "metadata": {},
   "source": [
    "### Convert UTC Time to Normal Datetime"
   ]
  },
  {
   "cell_type": "code",
   "execution_count": 40,
   "metadata": {},
   "outputs": [
    {
     "data": {
      "text/html": [
       "<div>\n",
       "<style scoped>\n",
       "    .dataframe tbody tr th:only-of-type {\n",
       "        vertical-align: middle;\n",
       "    }\n",
       "\n",
       "    .dataframe tbody tr th {\n",
       "        vertical-align: top;\n",
       "    }\n",
       "\n",
       "    .dataframe thead th {\n",
       "        text-align: right;\n",
       "    }\n",
       "</style>\n",
       "<table border=\"1\" class=\"dataframe\">\n",
       "  <thead>\n",
       "    <tr style=\"text-align: right;\">\n",
       "      <th></th>\n",
       "      <th>title</th>\n",
       "      <th>created_utc</th>\n",
       "      <th>subreddit_subscribers</th>\n",
       "      <th>num_comments</th>\n",
       "      <th>create_date</th>\n",
       "    </tr>\n",
       "  </thead>\n",
       "  <tbody>\n",
       "    <tr>\n",
       "      <th>0</th>\n",
       "      <td>Official Q&amp;amp;A for Saturday, November 04, 2023</td>\n",
       "      <td>1.699070e+09</td>\n",
       "      <td>2684021</td>\n",
       "      <td>90</td>\n",
       "      <td>2023-11-04 04:01:11</td>\n",
       "    </tr>\n",
       "    <tr>\n",
       "      <th>1</th>\n",
       "      <td>That Frigid Season is Here! - Annual cold / co...</td>\n",
       "      <td>1.698761e+09</td>\n",
       "      <td>2684021</td>\n",
       "      <td>215</td>\n",
       "      <td>2023-10-31 14:11:22</td>\n",
       "    </tr>\n",
       "    <tr>\n",
       "      <th>2</th>\n",
       "      <td>Super shoes have ‘blown distance running into ...</td>\n",
       "      <td>1.699103e+09</td>\n",
       "      <td>2684021</td>\n",
       "      <td>120</td>\n",
       "      <td>2023-11-04 13:05:18</td>\n",
       "    </tr>\n",
       "    <tr>\n",
       "      <th>3</th>\n",
       "      <td>What cool things do you with your medals? The ...</td>\n",
       "      <td>1.699108e+09</td>\n",
       "      <td>2684021</td>\n",
       "      <td>61</td>\n",
       "      <td>2023-11-04 14:24:33</td>\n",
       "    </tr>\n",
       "    <tr>\n",
       "      <th>4</th>\n",
       "      <td>What marathon training plan would you recommend?</td>\n",
       "      <td>1.699120e+09</td>\n",
       "      <td>2684021</td>\n",
       "      <td>12</td>\n",
       "      <td>2023-11-04 17:48:33</td>\n",
       "    </tr>\n",
       "  </tbody>\n",
       "</table>\n",
       "</div>"
      ],
      "text/plain": [
       "                                               title   created_utc  \\\n",
       "0   Official Q&amp;A for Saturday, November 04, 2023  1.699070e+09   \n",
       "1  That Frigid Season is Here! - Annual cold / co...  1.698761e+09   \n",
       "2  Super shoes have ‘blown distance running into ...  1.699103e+09   \n",
       "3  What cool things do you with your medals? The ...  1.699108e+09   \n",
       "4   What marathon training plan would you recommend?  1.699120e+09   \n",
       "\n",
       "   subreddit_subscribers  num_comments         create_date  \n",
       "0                2684021            90 2023-11-04 04:01:11  \n",
       "1                2684021           215 2023-10-31 14:11:22  \n",
       "2                2684021           120 2023-11-04 13:05:18  \n",
       "3                2684021            61 2023-11-04 14:24:33  \n",
       "4                2684021            12 2023-11-04 17:48:33  "
      ]
     },
     "execution_count": 40,
     "metadata": {},
     "output_type": "execute_result"
    }
   ],
   "source": [
    "sample_data['create_date'] = pd.to_datetime(sample_data['created_utc'],unit = 's')\n",
    "sample_data.head()"
   ]
  },
  {
   "cell_type": "markdown",
   "metadata": {},
   "source": [
    "### Split Date, Time and drop unix_time "
   ]
  },
  {
   "cell_type": "code",
   "execution_count": 41,
   "metadata": {},
   "outputs": [
    {
     "data": {
      "text/html": [
       "<div>\n",
       "<style scoped>\n",
       "    .dataframe tbody tr th:only-of-type {\n",
       "        vertical-align: middle;\n",
       "    }\n",
       "\n",
       "    .dataframe tbody tr th {\n",
       "        vertical-align: top;\n",
       "    }\n",
       "\n",
       "    .dataframe thead th {\n",
       "        text-align: right;\n",
       "    }\n",
       "</style>\n",
       "<table border=\"1\" class=\"dataframe\">\n",
       "  <thead>\n",
       "    <tr style=\"text-align: right;\">\n",
       "      <th></th>\n",
       "      <th>title</th>\n",
       "      <th>subreddit_subscribers</th>\n",
       "      <th>num_comments</th>\n",
       "      <th>create_date</th>\n",
       "      <th>new_date</th>\n",
       "      <th>new_time</th>\n",
       "    </tr>\n",
       "  </thead>\n",
       "  <tbody>\n",
       "    <tr>\n",
       "      <th>0</th>\n",
       "      <td>Official Q&amp;amp;A for Saturday, November 04, 2023</td>\n",
       "      <td>2684021</td>\n",
       "      <td>90</td>\n",
       "      <td>2023-11-04 04:01:11</td>\n",
       "      <td>2023-11-04</td>\n",
       "      <td>04:01:11</td>\n",
       "    </tr>\n",
       "    <tr>\n",
       "      <th>1</th>\n",
       "      <td>That Frigid Season is Here! - Annual cold / co...</td>\n",
       "      <td>2684021</td>\n",
       "      <td>215</td>\n",
       "      <td>2023-10-31 14:11:22</td>\n",
       "      <td>2023-10-31</td>\n",
       "      <td>14:11:22</td>\n",
       "    </tr>\n",
       "    <tr>\n",
       "      <th>2</th>\n",
       "      <td>Super shoes have ‘blown distance running into ...</td>\n",
       "      <td>2684021</td>\n",
       "      <td>120</td>\n",
       "      <td>2023-11-04 13:05:18</td>\n",
       "      <td>2023-11-04</td>\n",
       "      <td>13:05:18</td>\n",
       "    </tr>\n",
       "    <tr>\n",
       "      <th>3</th>\n",
       "      <td>What cool things do you with your medals? The ...</td>\n",
       "      <td>2684021</td>\n",
       "      <td>61</td>\n",
       "      <td>2023-11-04 14:24:33</td>\n",
       "      <td>2023-11-04</td>\n",
       "      <td>14:24:33</td>\n",
       "    </tr>\n",
       "    <tr>\n",
       "      <th>4</th>\n",
       "      <td>What marathon training plan would you recommend?</td>\n",
       "      <td>2684021</td>\n",
       "      <td>12</td>\n",
       "      <td>2023-11-04 17:48:33</td>\n",
       "      <td>2023-11-04</td>\n",
       "      <td>17:48:33</td>\n",
       "    </tr>\n",
       "  </tbody>\n",
       "</table>\n",
       "</div>"
      ],
      "text/plain": [
       "                                               title  subreddit_subscribers  \\\n",
       "0   Official Q&amp;A for Saturday, November 04, 2023                2684021   \n",
       "1  That Frigid Season is Here! - Annual cold / co...                2684021   \n",
       "2  Super shoes have ‘blown distance running into ...                2684021   \n",
       "3  What cool things do you with your medals? The ...                2684021   \n",
       "4   What marathon training plan would you recommend?                2684021   \n",
       "\n",
       "   num_comments         create_date    new_date  new_time  \n",
       "0            90 2023-11-04 04:01:11  2023-11-04  04:01:11  \n",
       "1           215 2023-10-31 14:11:22  2023-10-31  14:11:22  \n",
       "2           120 2023-11-04 13:05:18  2023-11-04  13:05:18  \n",
       "3            61 2023-11-04 14:24:33  2023-11-04  14:24:33  \n",
       "4            12 2023-11-04 17:48:33  2023-11-04  17:48:33  "
      ]
     },
     "execution_count": 41,
     "metadata": {},
     "output_type": "execute_result"
    }
   ],
   "source": [
    "sample_data['new_date'] = sample_data['create_date'].dt.date\n",
    "sample_data['new_time'] = sample_data['create_date'].dt.time\n",
    "del sample_data['created_utc']\n",
    "sample_data.head()"
   ]
  },
  {
   "cell_type": "code",
   "execution_count": 42,
   "metadata": {},
   "outputs": [
    {
     "name": "stdout",
     "output_type": "stream",
     "text": [
      "<class 'pandas.core.frame.DataFrame'>\n",
      "Index: 97999 entries, 0 to 47999\n",
      "Data columns (total 6 columns):\n",
      " #   Column                 Non-Null Count  Dtype         \n",
      "---  ------                 --------------  -----         \n",
      " 0   title                  97999 non-null  object        \n",
      " 1   subreddit_subscribers  97999 non-null  int64         \n",
      " 2   num_comments           97999 non-null  int64         \n",
      " 3   create_date            97999 non-null  datetime64[ns]\n",
      " 4   new_date               97999 non-null  object        \n",
      " 5   new_time               97999 non-null  object        \n",
      "dtypes: datetime64[ns](1), int64(2), object(3)\n",
      "memory usage: 5.2+ MB\n"
     ]
    }
   ],
   "source": [
    "sample_data.info()"
   ]
  },
  {
   "cell_type": "code",
   "execution_count": 49,
   "metadata": {},
   "outputs": [],
   "source": [
    "train_data = sample_data.drop_duplicates('title')"
   ]
  },
  {
   "cell_type": "code",
   "execution_count": 51,
   "metadata": {},
   "outputs": [
    {
     "name": "stdout",
     "output_type": "stream",
     "text": [
      "<class 'pandas.core.frame.DataFrame'>\n",
      "Index: 1231 entries, 0 to 383\n",
      "Data columns (total 6 columns):\n",
      " #   Column                 Non-Null Count  Dtype         \n",
      "---  ------                 --------------  -----         \n",
      " 0   title                  1231 non-null   object        \n",
      " 1   subreddit_subscribers  1231 non-null   int64         \n",
      " 2   num_comments           1231 non-null   int64         \n",
      " 3   create_date            1231 non-null   datetime64[ns]\n",
      " 4   new_date               1231 non-null   object        \n",
      " 5   new_time               1231 non-null   object        \n",
      "dtypes: datetime64[ns](1), int64(2), object(3)\n",
      "memory usage: 67.3+ KB\n"
     ]
    }
   ],
   "source": [
    "train_data.info()"
   ]
  },
  {
   "cell_type": "code",
   "execution_count": 50,
   "metadata": {},
   "outputs": [],
   "source": [
    "train_data.to_csv('train_data.csv', sep='|',encoding='utf-8')"
   ]
  },
  {
   "cell_type": "markdown",
   "metadata": {},
   "source": [
    "# NLP Process"
   ]
  },
  {
   "cell_type": "code",
   "execution_count": null,
   "metadata": {},
   "outputs": [],
   "source": []
  }
 ],
 "metadata": {
  "kernelspec": {
   "display_name": "Python 3",
   "language": "python",
   "name": "python3"
  },
  "language_info": {
   "codemirror_mode": {
    "name": "ipython",
    "version": 3
   },
   "file_extension": ".py",
   "mimetype": "text/x-python",
   "name": "python",
   "nbconvert_exporter": "python",
   "pygments_lexer": "ipython3",
   "version": "3.12.0"
  }
 },
 "nbformat": 4,
 "nbformat_minor": 2
}
