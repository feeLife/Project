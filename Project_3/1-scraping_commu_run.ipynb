{
 "cells": [
  {
   "cell_type": "markdown",
   "metadata": {},
   "source": [
    "## import"
   ]
  },
  {
   "cell_type": "code",
   "execution_count": null,
   "metadata": {},
   "outputs": [],
   "source": [
    "from selenium import webdriver\n",
    "from bs4 import BeautifulSoup\n",
    "import pandas as pd\n",
    "from tqdm import tqdm\n",
    "from time import sleep\n",
    "import json, os"
   ]
  },
  {
   "cell_type": "markdown",
   "metadata": {},
   "source": [
    "## instantiate webdriver"
   ]
  },
  {
   "cell_type": "code",
   "execution_count": null,
   "metadata": {},
   "outputs": [],
   "source": [
    "## instantiate driver\n",
    "## check the version of Google Chrome and download correct version of chromedriver\n",
    "driver = webdriver.Chrome()"
   ]
  },
  {
   "cell_type": "code",
   "execution_count": null,
   "metadata": {},
   "outputs": [],
   "source": [
    "## get page of \"social grep\", which gived old posts of subreddit\n",
    "## original reddit url = 'https://www.reddit.com/r/xxxxxxxxx/'\n",
    "\n",
    "subreddit = 'running' # choose by yourself\n",
    "start_date = '2018-01-01' # choose by yourself\n",
    "url = f'https://socialgrep.com/search?query=%2Fr%2F{subreddit}%2Cafter%3A{start_date}&order_by=oldest'\n",
    "\n",
    "driver.get(url)\n",
    "repeat_time, waiting_time = 4, 2\n",
    "\n",
    "## scroll to the bottom of the page and wait\n",
    "for i in range(repeat_time):\n",
    "    driver.execute_script(f\"window.scrollTo(0, document.body.scrollHeight);\")\n",
    "    sleep(waiting_time)"
   ]
  },
  {
   "cell_type": "markdown",
   "metadata": {},
   "source": [
    "## example of one post"
   ]
  },
  {
   "cell_type": "code",
   "execution_count": null,
   "metadata": {},
   "outputs": [],
   "source": [
    "## function to scrape\n",
    "def get_content(post, subreddit):\n",
    "    try:\n",
    "        vote = int(post.select_one('span.text-info').text)\n",
    "    except:\n",
    "        vote = 0\n",
    "    try:\n",
    "        title = post.a.text\n",
    "    except:\n",
    "        return None\n",
    "    try:\n",
    "        text = post.select_one('div.post_content').get_text(separator='\\n').strip()\n",
    "        if text == '':\n",
    "            text = None\n",
    "    except:\n",
    "        text = None\n",
    "    date = post.select_one('h6.card-subtitle').text.split(',')[1].strip()\n",
    "\n",
    "    if text == None and title == f\"/r/{subreddit.lower()}\":\n",
    "        return None\n",
    "    else:\n",
    "        return {\n",
    "            \"vote\" : vote,\n",
    "            \"title\" : title,\n",
    "            \"text\" : text,\n",
    "            \"date\" : date\n",
    "        }"
   ]
  },
  {
   "cell_type": "code",
   "execution_count": null,
   "metadata": {},
   "outputs": [],
   "source": [
    "soup = BeautifulSoup(driver.page_source)\n",
    "posts = soup.select('div.card-body') # content is under here\n",
    "\n",
    "get_content(posts[1], subreddit) # show one example"
   ]
  },
  {
   "cell_type": "markdown",
   "metadata": {},
   "source": [
    "# for loop with datetime"
   ]
  },
  {
   "cell_type": "code",
   "execution_count": null,
   "metadata": {},
   "outputs": [],
   "source": [
    "if os.path.exists(f'{subreddit}.json'):\n",
    "    ## resume scraping from the last date in the json file\n",
    "    with open(f'{subreddit}.json', 'r',encoding='utf-8') as f:\n",
    "        scraped_data = json.load(f)\n",
    "    new_date = scraped_data[-1]['date']\n",
    "    url = f'https://socialgrep.com/search?query=%2Fr%2F{subreddit}%2Cafter%3A{new_date}&order_by=oldest'\n",
    "else:\n",
    "    ## if the file not exists, create a new list\n",
    "    scraped_data = []"
   ]
  },
  {
   "cell_type": "code",
   "execution_count": null,
   "metadata": {},
   "outputs": [],
   "source": [
    "## scrape and append to `scraped_data`\n",
    "## RUN THIS CELL AGAIN AND AGAIN until getting the latest post\n",
    "\n",
    "for _ in tqdm(range(500)): # set repeat time \n",
    "\n",
    "    ## scroll to the bottom of the page and wait\n",
    "    driver.get(url)\n",
    "    for i in range(4):\n",
    "        driver.execute_script(f\"window.scrollTo(0, document.body.scrollHeight);\")\n",
    "        sleep(2)\n",
    "\n",
    "    ## get HTML\n",
    "    soup = BeautifulSoup(driver.page_source)\n",
    "    posts = soup.select('div.card-body')\n",
    "\n",
    "    ## iterate each post\n",
    "    for post in posts:\n",
    "        one_post_dict = get_content(post, subreddit)\n",
    "        if one_post_dict != None:\n",
    "            scraped_data.append(one_post_dict)\n",
    "\n",
    "    ## save to json\n",
    "    with open(f'{subreddit}.json', 'w',encoding='utf-8') as f:\n",
    "        json.dump(scraped_data, f, indent=False, ensure_ascii=False)\n",
    "\n",
    "    ## set new date\n",
    "    new_date = scraped_data[-1]['date']\n",
    "    url = f'https://socialgrep.com/search?query=%2Fr%2F{subreddit}%2Cafter%3A{new_date}&order_by=oldest'\n"
   ]
  },
  {
   "cell_type": "markdown",
   "metadata": {},
   "source": [
    "## to dataframe and drop duplicate"
   ]
  }
 ],
 "metadata": {
  "kernelspec": {
   "display_name": "Python 3.9.13 64-bit",
   "language": "python",
   "name": "python3"
  },
  "language_info": {
   "codemirror_mode": {
    "name": "ipython",
    "version": 3
   },
   "file_extension": ".py",
   "mimetype": "text/x-python",
   "name": "python",
   "nbconvert_exporter": "python",
   "pygments_lexer": "ipython3",
   "version": "3.12.0"
  },
  "orig_nbformat": 4,
  "vscode": {
   "interpreter": {
    "hash": "aee8b7b246df8f9039afb4144a1f6fd8d2ca17a180786b69acc140d282b71a49"
   }
  }
 },
 "nbformat": 4,
 "nbformat_minor": 2
}
